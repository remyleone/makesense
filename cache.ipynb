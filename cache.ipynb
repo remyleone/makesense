{
 "cells": [
  {
   "cell_type": "markdown",
   "metadata": {},
   "source": [
    "# Hypothèses de travail\n",
    "\n",
    "- On a un graphe de connexion au niveau de la passerelle\n",
    "\n",
    "On connait au moins les noeuds mais on ne connait pas forcement les arêtes (route ou bien lien radios) entre les noeuds.\n",
    "\n",
    "- Cette information est juste indispensable pour connaitre les impacts de restrictions de traffic via le cache sur l'ensemble des noeuds."
   ]
  },
  {
   "cell_type": "code",
   "execution_count": 2,
   "metadata": {
    "collapsed": false
   },
   "outputs": [
    {
     "data": {
      "text/html": [
       "<div>\n",
       "<table border=\"1\" class=\"dataframe\">\n",
       "  <thead>\n",
       "    <tr style=\"text-align: right;\">\n",
       "      <th></th>\n",
       "      <th>e_0</th>\n",
       "      <th>c_min</th>\n",
       "      <th>c_max</th>\n",
       "      <th>lambda_r</th>\n",
       "    </tr>\n",
       "    <tr>\n",
       "      <th>nodes</th>\n",
       "      <th></th>\n",
       "      <th></th>\n",
       "      <th></th>\n",
       "      <th></th>\n",
       "    </tr>\n",
       "  </thead>\n",
       "  <tbody>\n",
       "    <tr>\n",
       "      <th>0</th>\n",
       "      <td>100</td>\n",
       "      <td>1</td>\n",
       "      <td>9</td>\n",
       "      <td>1</td>\n",
       "    </tr>\n",
       "    <tr>\n",
       "      <th>1</th>\n",
       "      <td>100</td>\n",
       "      <td>1</td>\n",
       "      <td>9</td>\n",
       "      <td>1</td>\n",
       "    </tr>\n",
       "    <tr>\n",
       "      <th>2</th>\n",
       "      <td>100</td>\n",
       "      <td>1</td>\n",
       "      <td>9</td>\n",
       "      <td>1</td>\n",
       "    </tr>\n",
       "    <tr>\n",
       "      <th>3</th>\n",
       "      <td>100</td>\n",
       "      <td>1</td>\n",
       "      <td>9</td>\n",
       "      <td>1</td>\n",
       "    </tr>\n",
       "    <tr>\n",
       "      <th>4</th>\n",
       "      <td>100</td>\n",
       "      <td>1</td>\n",
       "      <td>9</td>\n",
       "      <td>1</td>\n",
       "    </tr>\n",
       "    <tr>\n",
       "      <th>5</th>\n",
       "      <td>100</td>\n",
       "      <td>1</td>\n",
       "      <td>9</td>\n",
       "      <td>1</td>\n",
       "    </tr>\n",
       "    <tr>\n",
       "      <th>6</th>\n",
       "      <td>100</td>\n",
       "      <td>1</td>\n",
       "      <td>9</td>\n",
       "      <td>1</td>\n",
       "    </tr>\n",
       "  </tbody>\n",
       "</table>\n",
       "</div>"
      ],
      "text/plain": [
       "       e_0  c_min  c_max  lambda_r\n",
       "nodes                             \n",
       "0      100      1      9         1\n",
       "1      100      1      9         1\n",
       "2      100      1      9         1\n",
       "3      100      1      9         1\n",
       "4      100      1      9         1\n",
       "5      100      1      9         1\n",
       "6      100      1      9         1"
      ]
     },
     "execution_count": 2,
     "metadata": {},
     "output_type": "execute_result"
    },
    {
     "data": {
      "image/png": "[encoded data removed]",
      "text/plain": [
       "<matplotlib.figure.Figure at 0x7f2e33bbb780>"
      ]
     },
     "metadata": {},
     "output_type": "display_data"
    }
   ],
   "source": [
    "import pandas as pd\n",
    "import random\n",
    "import matplotlib.pyplot as plt\n",
    "import networkx as nx\n",
    "import numpy as np\n",
    "\n",
    "# Tree structure\n",
    "g = nx.balanced_tree(2, 2)\n",
    "g = nx.convert.convert_to_directed(g)\n",
    "for a, b in g.edges():\n",
    "    if a < b:\n",
    "        g.remove_edge(a, b)\n",
    "\n",
    "# Graph drawing\n",
    "pos = nx.spring_layout(g)\n",
    "nx.draw_networkx_labels(g, pos=pos)\n",
    "nx.draw_networkx_edges(g, pos, edge_color='r', arrows=True)\n",
    "\n",
    "# We add attributes to nodes (they could be random)\n",
    "g.add_nodes_from([(node_id, {\n",
    "                \"e_0\": 100, \n",
    "                \"c_min\": 1,\n",
    "                \"lambda_r\": 1,\n",
    "                \"c_max\": 9}) for node_id in g.nodes()])\n",
    "\n",
    "N = len(g.nodes())\n",
    "\n",
    "# For ease of manipulation we make a table\n",
    "df = pd.DataFrame(index=pd.Index(g.nodes(), name=\"nodes\"))\n",
    "for attribute in [\"e_0\", \"c_min\", \"c_max\", \"lambda_r\"]:\n",
    "    temp = nx.get_node_attributes(g, attribute)\n",
    "    temp_df = pd.DataFrame.from_dict(temp, orient=\"index\").rename(columns={0: attribute})\n",
    "    df = df.join(temp_df)\n",
    "\n",
    "#df = df_to_merge[0].join(df_to_merge[1:])\n",
    "\n",
    "# Drawing\n",
    "nx.draw(g, pos=pos)  # You need %matplotlib inline to see it in the notebook\n",
    "\n",
    "# DataFrame\n",
    "df"
   ]
  },
  {
   "cell_type": "markdown",
   "metadata": {},
   "source": [
    "- $E_0$: is the budget of energy that the node got. $E = 0$ means that the node is dead.\n",
    "\n",
    "- $c_{min}$: Minimal cache time. It would not be relevant to have a $c$ lower than this value.\n",
    "\n",
    "- $c_{max}$: Maximal cache time. It would not be relevant to have a $c$ higher than this value."
   ]
  },
  {
   "cell_type": "code",
   "execution_count": 3,
   "metadata": {
    "collapsed": false
   },
   "outputs": [
    {
     "data": {
      "text/plain": [
       "matrix([[ 1.],\n",
       "        [ 0.],\n",
       "        [ 1.],\n",
       "        [ 0.],\n",
       "        [ 0.],\n",
       "        [ 1.],\n",
       "        [ 0.]])"
      ]
     },
     "execution_count": 3,
     "metadata": {},
     "output_type": "execute_result"
    }
   ],
   "source": [
    "def impact_matrix(g):\n",
    "    \"\"\"\n",
    "    Will compute the impact matrix of the graph g.\n",
    "    \n",
    "    The impact matrix takes into account the forwarding\n",
    "    of each-nodes in a multi-hop setup.\n",
    "    \n",
    "    Let A be the adjacency matrix of $G$.\n",
    "    Because $A$ is nilpotente (we got a tree), $Id - A$ is inversible\n",
    "    therefore we have $(Id - A)^{-1} = Id + A + A^2 + ...$\n",
    "    \"\"\"\n",
    "    nodes = sorted(g.nodes())\n",
    "    n = len(nodes)\n",
    "    adj_matrix = nx.adjacency_matrix(g, nodelist=nodes).T\n",
    "    return ((np.identity(n) - adj_matrix) ** (-1))\n",
    "\n",
    "# 1 request on node 5 => one forward on node 0, 2 and 5\n",
    "impact_matrix(g) * np.array([0, 0, 0, 0, 0, 1, 0]).reshape((7,1))"
   ]
  },
  {
   "cell_type": "markdown",
   "metadata": {},
   "source": [
    "## Optimisation multi-objectifs"
   ]
  },
  {
   "cell_type": "code",
   "execution_count": 4,
   "metadata": {
    "collapsed": true
   },
   "outputs": [],
   "source": [
    "def ratio(c, t):\n",
    "    if t <= c:\n",
    "        return np.ceil(c / t) * t\n",
    "    else:\n",
    "        return t\n",
    "rfunc = np.vectorize(ratio)"
   ]
  },
  {
   "cell_type": "markdown",
   "metadata": {},
   "source": [
    "### Définition de la durée de vie du réseau\n",
    "\n",
    "C'est dans cette fonction que l'on va utiliser la topologie du réseau ainsi que la durée de cache pour calculer une durée de vie"
   ]
  },
  {
   "cell_type": "code",
   "execution_count": 5,
   "metadata": {
    "collapsed": false
   },
   "outputs": [],
   "source": [
    "import numpy as np\n",
    "\n",
    "# Settings\n",
    "\n",
    "Vdd = 3\n",
    "I_tx = 11.6e-3\n",
    "I_sleep = 80e-9\n",
    "I_idle = 396e-6\n",
    "I_rx = 12.7e-3\n",
    "I_sleep_idle = 691e-12\n",
    "I_idle_tx = 6.63e-6\n",
    "I_idle_rx = 6.63e-6\n",
    "P_tx = I_tx * Vdd\n",
    "P_sleep = I_sleep * Vdd\n",
    "P_idle = I_idle * Vdd\n",
    "P_rx = I_rx * Vdd\n",
    "\n",
    "Energy = Vdd * 3 * 3600\n",
    "\n",
    "# Communications settings\n",
    "\n",
    "R = 250000\n",
    "L_get = 87 * 8\n",
    "L_Ans = 96 * 8\n",
    "S_get = L_get / R\n",
    "S_Ans = L_Ans / R\n",
    "S_ack = 0.608e-3\n",
    "S_get_Rxtx = S_ack\n",
    "S_Ans_Rxtx = S_ack\n",
    "T_period = 0.244\n",
    "T_d = 0.16e-3\n",
    "T_p = 0.4e-3\n",
    "\n",
    "t_act = 4e-4\n",
    "t_sleep = T_period - t_act\n",
    "\n",
    "S_get_Rxrx = (3 * S_get) / 2 + T_p\n",
    "S_Ans_Rxrx = (3 * S_Ans) / 2 + T_p\n",
    "S_Ans_Txrx = (3 + np.floor((t_sleep - S_Ans) / S_Ans)) * T_d / 2 + S_ack\n",
    "S_get_Txrx = (3 + np.floor((t_sleep - S_get) / S_get)) * T_d / 2 + S_ack\n",
    "S_Ans_Txtx = (3 + np.floor((t_sleep - S_Ans) / S_Ans)) * S_Ans / 2\n",
    "S_get_Txtx = (3 + np.floor((t_sleep - S_get) / S_get)) * S_get / 2\n",
    "\n",
    "gamma_rx_get = P_sleep * (3 * S_get / 2 + T_p + S_ack) / T_period\n",
    "gamma_rx_Ans = P_sleep * (3 * S_Ans / 2 + T_p + S_ack) / T_period\n",
    "gamma_tx_get = P_sleep * ((3 + np.floor((t_sleep-S_get)/S_get))/2*(S_get+T_d) + S_ack) / T_period\n",
    "gamma_tx_Ans = P_sleep * ((3 + np.floor((t_sleep-S_Ans)/S_Ans))/2*(S_Ans+T_d) + S_ack) / T_period\n",
    "\n",
    "omega_sleep = P_sleep * t_sleep / T_period\\\n",
    "                - gamma_tx_Ans - gamma_rx_Ans\\\n",
    "                - gamma_rx_get - gamma_tx_get \n",
    "omega_cl = t_act * P_rx / T_period\n",
    "\n",
    "mat = impact_matrix(g)\n",
    "\n",
    "def lifetime(g, c, lambda_r):\n",
    "    \"\"\"\n",
    "    Each omega variable will be a vector containing the related\n",
    "    value for the node $i$ at index $i$.\n",
    "    \"\"\"   \n",
    "    # Attention au cas de la racine ou l = 0\n",
    "    r = rfunc(c, lambda_r)\n",
    "    \n",
    "    N = len(g.nodes())\n",
    "\n",
    "    omega_CoAP_rx = (P_tx * S_get_Rxrx + P_rx * S_get_Rxtx) / r\n",
    "    omega_CoAP_tx = (P_tx * S_Ans_Txtx + P_rx * S_Ans_Txrx) / r\n",
    "    \n",
    "    # On calcule les couts de retransmission en utilisant la matrice d'impact\n",
    "    omega_forward_rx = mat.dot(omega_CoAP_rx)\n",
    "    omega_forward_tx = mat.dot(omega_CoAP_tx)\n",
    "    \n",
    "    omega_tot = omega_sleep + omega_cl\\\n",
    "                + omega_CoAP_tx + omega_CoAP_rx\\\n",
    "                + omega_forward_rx\\\n",
    "                + omega_forward_tx\n",
    "        \n",
    "    return np.amin(df.e_0.values / omega_tot)"
   ]
  },
  {
   "cell_type": "code",
   "execution_count": 6,
   "metadata": {
    "collapsed": false
   },
   "outputs": [],
   "source": [
    "def satisfaction(c, cmax=None, cmin=None):\n",
    "    if cmax is None:\n",
    "        cmax = df.c_max\n",
    "    if cmin is None:\n",
    "        cmin = df.c_min\n",
    "    return (cmax - c) / (cmax - cmin)"
   ]
  },
  {
   "cell_type": "markdown",
   "metadata": {},
   "source": [
    "### Méthode d'évaluation\n",
    "\n",
    "C'est cette méthode qui va dire à quel point notre individu est adapté. On transforme\n",
    "un génotype en un phénotype et nous le jugeons."
   ]
  },
  {
   "cell_type": "code",
   "execution_count": 7,
   "metadata": {
    "collapsed": false,
    "scrolled": true
   },
   "outputs": [
    {
     "data": {
      "text/plain": [
       "(array([ 3.04260486,  1.38464998,  5.98633619,  6.08548781,  1.36239411,\n",
       "         8.84075144,  5.26316716]),\n",
       " 9955.9985323065612,\n",
       " (0.5541894364010379, 4.4156170348399675e-05))"
      ]
     },
     "execution_count": 7,
     "metadata": {},
     "output_type": "execute_result"
    }
   ],
   "source": [
    "c = np.random.uniform(1, 9, len(g.nodes()))\n",
    "max_lifetime = lifetime(g, df.c_min, df.lambda_r)\n",
    "\n",
    "def fitness(c):\n",
    "    cmin, cmax = df.c_min, df.c_max\n",
    "    mean_satisfaction = np.mean(satisfaction(c, cmin=cmin, cmax=cmax))\n",
    "    life = lifetime(g, c, df.lambda_r) / (24 * 3600)\n",
    "    lifetime_norm = life / max_lifetime\n",
    "    return (mean_satisfaction, lifetime_norm)\n",
    "\n",
    "c, lifetime(g, c, df.lambda_r), fitness(c)"
   ]
  },
  {
   "cell_type": "code",
   "execution_count": 9,
   "metadata": {
    "collapsed": false
   },
   "outputs": [
    {
     "name": "stdout",
     "output_type": "stream",
     "text": [
      "gen\tnevals\tmean    \tmin        \tmax     \n",
      "0  \t500   \t0.251915\t2.81349e-05\t0.841457\n",
      "1  \t500   \t0.264766\t2.81349e-05\t0.847809\n",
      "2  \t500   \t0.263037\t2.71732e-05\t0.847809\n",
      "3  \t500   \t0.259826\t2.5788e-05 \t0.887526\n",
      "4  \t500   \t0.257943\t2.5788e-05 \t0.887526\n",
      "5  \t500   \t0.253673\t2.5788e-05 \t0.887526\n",
      "6  \t500   \t0.251784\t2.5788e-05 \t0.889295\n",
      "7  \t500   \t0.256708\t2.5788e-05 \t0.890471\n",
      "8  \t500   \t0.262696\t2.5788e-05 \t0.890731\n",
      "9  \t500   \t0.26236 \t2.5788e-05 \t0.892744\n",
      "10 \t500   \t0.262137\t2.5788e-05 \t0.898531\n",
      "11 \t500   \t0.266949\t2.5788e-05 \t0.905708\n",
      "12 \t500   \t0.266601\t2.5788e-05 \t0.905708\n",
      "13 \t500   \t0.263718\t2.5788e-05 \t0.905708\n",
      "14 \t500   \t0.264942\t2.5788e-05 \t0.905708\n",
      "15 \t500   \t0.263325\t2.5788e-05 \t0.905708\n",
      "16 \t500   \t0.263616\t2.5788e-05 \t0.905708\n",
      "17 \t500   \t0.267265\t2.5788e-05 \t0.918113\n",
      "18 \t500   \t0.277292\t2.5788e-05 \t0.918113\n",
      "19 \t500   \t0.271225\t2.5204e-05 \t0.918113\n",
      "20 \t500   \t0.266601\t2.5788e-05 \t0.919566\n",
      "21 \t500   \t0.277469\t2.5788e-05 \t0.92228 \n",
      "22 \t500   \t0.273355\t2.5204e-05 \t0.924303\n",
      "23 \t500   \t0.272648\t2.5204e-05 \t0.924303\n",
      "24 \t500   \t0.268809\t2.5204e-05 \t0.924303\n",
      "25 \t500   \t0.266555\t2.5204e-05 \t0.925632\n",
      "26 \t500   \t0.269231\t2.5204e-05 \t0.925632\n",
      "27 \t500   \t0.26626 \t2.41119e-05\t0.955438\n",
      "28 \t500   \t0.260286\t2.41119e-05\t0.955438\n",
      "29 \t500   \t0.258176\t2.41119e-05\t0.955438\n",
      "30 \t500   \t0.262913\t2.41119e-05\t0.955438\n",
      "31 \t500   \t0.265132\t2.41119e-05\t0.955438\n",
      "32 \t500   \t0.266888\t2.41119e-05\t0.955438\n",
      "33 \t500   \t0.27612 \t2.41119e-05\t0.955464\n",
      "34 \t500   \t0.276542\t2.31105e-05\t0.97367 \n",
      "35 \t500   \t0.278641\t2.31105e-05\t0.97367 \n",
      "36 \t500   \t0.286267\t2.31105e-05\t0.97367 \n",
      "37 \t500   \t0.283288\t2.31105e-05\t0.975974\n",
      "38 \t500   \t0.281462\t2.31105e-05\t0.978147\n",
      "39 \t500   \t0.278566\t2.31105e-05\t0.978147\n",
      "40 \t500   \t0.273537\t2.31105e-05\t0.978147\n",
      "41 \t500   \t0.27306 \t2.31105e-05\t0.978147\n",
      "42 \t500   \t0.277852\t2.31105e-05\t0.978147\n",
      "43 \t500   \t0.273707\t2.31105e-05\t0.978238\n",
      "44 \t500   \t0.27612 \t2.31105e-05\t0.978238\n",
      "45 \t500   \t0.27379 \t2.31105e-05\t0.978238\n",
      "46 \t500   \t0.268667\t2.31105e-05\t0.978238\n",
      "47 \t500   \t0.270308\t2.31105e-05\t0.981816\n",
      "48 \t500   \t0.270565\t2.31105e-05\t0.981816\n",
      "49 \t500   \t0.270307\t2.31105e-05\t0.981816\n",
      "50 \t500   \t0.275533\t2.31105e-05\t0.981816\n"
     ]
    },
    {
     "name": "stderr",
     "output_type": "stream",
     "text": [
      "/home/sieben/.local/lib/python3.4/site-packages/deap-1.1.0-py3.4-linux-x86_64.egg/deap/creator.py:141: RuntimeWarning: A class named 'FitnessMax' has already been created and it will be overwritten. Consider deleting previous creation of that class or rename it.\n",
      "  RuntimeWarning)\n",
      "/home/sieben/.local/lib/python3.4/site-packages/deap-1.1.0-py3.4-linux-x86_64.egg/deap/creator.py:141: RuntimeWarning: A class named 'Individual' has already been created and it will be overwritten. Consider deleting previous creation of that class or rename it.\n",
      "  RuntimeWarning)\n"
     ]
    }
   ],
   "source": [
    "from deap import creator\n",
    "from deap.base import Toolbox, Fitness\n",
    "from deap.tools import selNSGA2, mutPolynomialBounded, cxSimulatedBinaryBounded\n",
    "from deap.tools import initRepeat, initIterate, Statistics, emo\n",
    "from deap.algorithms import eaSimple, eaMuPlusLambda\n",
    "from operator import attrgetter\n",
    "from copy import deepcopy\n",
    "\n",
    "creator.create(\"FitnessMax\", Fitness, weights=(1.0, 1.0))\n",
    "creator.create(\"Individual\", list, fitness=creator.FitnessMax)\n",
    "\n",
    "toolbox = Toolbox()\n",
    "\n",
    "def uniform(low, up, size=None):\n",
    "    return [random.uniform(a, b) for a, b in zip(low, up)]\n",
    "toolbox.register(\"attr_float\", uniform, df.c_min.tolist(), df.c_max.tolist())\n",
    "toolbox.register(\"individual\", initIterate, creator.Individual, toolbox.attr_float)\n",
    "toolbox.register(\"population\", initRepeat, list, toolbox.individual)\n",
    "\n",
    "# Evaluation fonction\n",
    "toolbox.register(\"evaluate\", fitness)\n",
    "\n",
    "# On utilise la même méthode de sélection que dans le papier\n",
    "toolbox.register(\"select\", selNSGA2)\n",
    "\n",
    "# Executes a simulated binary crossover that modify in-place the input individuals.\n",
    "# The simulated binary crossover expects sequence individuals of floating point numbers.\n",
    "toolbox.register(\"mate\", cxSimulatedBinaryBounded, \n",
    "                 low=df.c_min.tolist(), up=df.c_max.tolist(), \n",
    "                 eta=10)\n",
    "\n",
    "toolbox.cx_prob = 0.9\n",
    "\n",
    "# Mutation classique en NSGA2\n",
    "toolbox.register(\"mutate\", mutPolynomialBounded, \n",
    "                 low=df.c_min.tolist(), up=df.c_max.tolist(), \n",
    "                 eta=20.0, indpb=1.0/N)\n",
    "\n",
    "# Mutation probability\n",
    "toolbox.mut_prob = 0.5\n",
    "\n",
    "fit_stats = Statistics(key=attrgetter(\"fitness.values\"))\n",
    "fit_stats.register('mean', np.mean)\n",
    "fit_stats.register('min', np.min)\n",
    "fit_stats.register('max', np.max)\n",
    "#fit_stats.register(\"pop\", deepcopy)\n",
    "\n",
    "toolbox.pop_size = 500\n",
    "toolbox.ngen = 50\n",
    "pop = toolbox.population(n=toolbox.pop_size)\n",
    "\n",
    "# This is just to assign the crowding distance to the individuals\n",
    "# no actual selection is done\n",
    "pop = toolbox.select(pop, len(pop))\n",
    "\n",
    "result, logs = eaMuPlusLambda(pop, toolbox, ngen=toolbox.ngen,\n",
    "                              lambda_=toolbox.pop_size, mu=toolbox.pop_size, \n",
    "                              cxpb=1 - toolbox.mut_prob, mutpb=toolbox.mut_prob, \n",
    "                              verbose=True, stats=fit_stats)\n",
    "df_genetic = pd.DataFrame([{\n",
    "                \"c\": x,\n",
    "                \"satisfaction\": np.mean(satisfaction(x)),\n",
    "                \"lifetime\": lifetime(g, x, df.lambda_r),\n",
    "                \"method\": \"genetic\"\n",
    "            }\n",
    "\n",
    "                     for x in result if not any(np.isnan(x))])"
   ]
  },
  {
   "cell_type": "code",
   "execution_count": null,
   "metadata": {
    "collapsed": false
   },
   "outputs": [],
   "source": [
    "plots = plt.plot(#logs.select('min'),'c-', \n",
    "                 logs.select('mean'), 'b-',\n",
    "                 logs.select('max'), 'r-', antialiased=True)\n",
    "plt.legend(plots, (#'Minimum fitness',\n",
    "        'Mean fitness', 'Max fitness'), loc=\"upper left\")\n",
    "plt.ylabel('Fitness')\n",
    "plt.xlabel('Iterations')"
   ]
  },
  {
   "cell_type": "markdown",
   "metadata": {},
   "source": [
    "## Solutions found using systematic sieve"
   ]
  },
  {
   "cell_type": "code",
   "execution_count": 11,
   "metadata": {
    "collapsed": false,
    "scrolled": true
   },
   "outputs": [],
   "source": [
    "numbers = [np.binary_repr(i, width=N) for i in np.arange(2**(N))]\n",
    "\n",
    "def f(x):\n",
    "    res = []\n",
    "    for i in x:\n",
    "        solution = np.zeros(N)\n",
    "        for ind, letter in enumerate(i):\n",
    "            if letter == \"0\":\n",
    "                solution[ind] = df.c_min[ind]\n",
    "            else:\n",
    "                solution[ind] = df.c_max[ind]\n",
    "        res.append(solution)\n",
    "    return res\n",
    "extremes = f(numbers)\n",
    "\n",
    "results = [{\"c\": point,\n",
    "            \"lifetime\": lifetime(g, point, df.lambda_r),\n",
    "            \"satisfaction\": np.mean(satisfaction(point)),\n",
    "            \"method\": \"extreme\"\n",
    "           }\n",
    "           for point in extremes]\n",
    "    \n",
    "df_extreme = pd.DataFrame(results)"
   ]
  },
  {
   "cell_type": "markdown",
   "metadata": {},
   "source": [
    "## Admissible solutions found using optimization tools"
   ]
  },
  {
   "cell_type": "code",
   "execution_count": 12,
   "metadata": {
    "collapsed": false
   },
   "outputs": [],
   "source": [
    "from scipy.optimize import minimize\n",
    "\n",
    "results = []\n",
    "\n",
    "# Kind of like a GridSearch\n",
    "for sat in np.arange(0, 1, 0.1):\n",
    "    # Initial point\n",
    "    x0 = np.random.uniform(1, 9, len(g.nodes()))\n",
    "\n",
    "    # We want to minimize this function\n",
    "    fun = lambda x: - lifetime(g, x, df.lambda_r)\n",
    "\n",
    "    # Bounds with c_min and c_max\n",
    "    bounds = [(c_min_i, c_max_i) \n",
    "              for (c_min_i, c_max_i) in zip(df.c_min, df.c_max)]\n",
    "\n",
    "    # Constraints with equality must be 0\n",
    "    constraints = ({\"type\": \"eq\",\n",
    "             \"fun\": lambda x: np.mean(satisfaction(x)) - sat})\n",
    "\n",
    "    res = minimize(fun, x0=x0, bounds=bounds, constraints=constraints)\n",
    "    results.append({\"c\": res.x, \n",
    "                    \"lifetime\": lifetime(g, res.x, df.lambda_r),\n",
    "                    \"satisfaction\": np.mean(satisfaction(res.x)),\n",
    "                    \"method\": \"optimization\"})\n",
    "\n",
    "df_opt = pd.DataFrame(results)"
   ]
  },
  {
   "cell_type": "markdown",
   "metadata": {
    "collapsed": true
   },
   "source": [
    "## Plotting all solutions on a single graph"
   ]
  },
  {
   "cell_type": "code",
   "execution_count": 13,
   "metadata": {
    "collapsed": false
   },
   "outputs": [],
   "source": [
    "df_final = pd.concat([df_extreme, df_opt, df_genetic])"
   ]
  },
  {
   "cell_type": "code",
   "execution_count": 15,
   "metadata": {
    "collapsed": false
   },
   "outputs": [
    {
     "data": {
      "image/png": "[encoded data removed]",
      "text/plain": [
       "<matplotlib.figure.Figure at 0x7f2e2a5b4f60>"
      ]
     },
     "metadata": {},
     "output_type": "display_data"
    }
   ],
   "source": [
    "ax = df_final[df_final.method == \"optimization\"].plot(\n",
    "    kind=\"scatter\", color=\"Red\",\n",
    "    x=\"satisfaction\", y=\"lifetime\",\n",
    "    label=\"Optmization\")\n",
    "\n",
    "df_final[df_final.method == \"extreme\"].plot(\n",
    "    kind=\"scatter\", color=\"green\",\n",
    "    x=\"satisfaction\", y=\"lifetime\",\n",
    "    label=\"extreme\", ax=ax)\n",
    "\n",
    "df_final[df_final.method == \"genetic\"].plot(\n",
    "    kind=\"scatter\", color=\"blue\",\n",
    "    x=\"satisfaction\", y=\"lifetime\",\n",
    "    label=\"genetic\", ax=ax)\n",
    "\n",
    "fig = ax.get_figure()\n",
    "fig.savefig('output.pdf')"
   ]
  },
  {
   "cell_type": "code",
   "execution_count": null,
   "metadata": {
    "collapsed": true
   },
   "outputs": [],
   "source": []
  }
 ],
 "metadata": {
  "kernelspec": {
   "display_name": "Python 3",
   "language": "python",
   "name": "python3"
  },
  "language_info": {
   "codemirror_mode": {
    "name": "ipython",
    "version": 3
   },
   "file_extension": ".py",
   "mimetype": "text/x-python",
   "name": "python",
   "nbconvert_exporter": "python",
   "pygments_lexer": "ipython3",
   "version": "3.4.3"
  }
 },
 "nbformat": 4,
 "nbformat_minor": 0
}
