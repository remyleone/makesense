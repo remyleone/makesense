{
 "metadata": {
  "name": "",
  "signature": "sha256:cc729a8c78239c0726c55af4e9ff91aebd30f2ae5d968aaab31dceadeb75ad0f"
 },
 "nbformat": 3,
 "nbformat_minor": 0,
 "worksheets": [
  {
   "cells": [
    {
     "cell_type": "markdown",
     "metadata": {},
     "source": [
      "<h1 align=\"center\">Makesense demo</h1>"
     ]
    },
    {
     "cell_type": "markdown",
     "metadata": {},
     "source": [
      "# Table of contents\n",
      "\n",
      "- [Introduction](#introduction)\n",
      "- [Requierements](#requierements)\n",
      "- [Settings](#settings)\n",
      "- [Make](#make)\n",
      "- [Launch](#launch)\n",
      "- [Deploy](#deploy)\n",
      "- [Fetch](#fetch)\n",
      "- [Parse](#parse)\n",
      "- [Analyze](#analyze)"
     ]
    },
    {
     "cell_type": "markdown",
     "metadata": {},
     "source": [
      "## Introduction\n",
      "\n",
      "The goal of this [IPython](//ipython.org) notebook is to present how different python librairies can help orchestrate and run large scale and complex simulations campaigns. We will also see how by using the [IoTlab](//iot-lab.info) we can also reuse the exact same code  we developped for [Contiki](//contiki-os.org) operating system and push it to real nodes.\n",
      "\n",
      "We organize our code around the idea of steps that are piece of code executed independently from each others. Because of this modularity, we can put each of those steps on an IPython cell.\n",
      "\n",
      "You can launch code from this notebook that is provided inside the git repository. You can use the [fabric](//fabfile.org) command line tool from this same repository."
     ]
    },
    {
     "cell_type": "markdown",
     "metadata": {},
     "source": [
      "## Requierements\n",
      "\n",
      "### Python librairies\n",
      "\n",
      "This demo requieres some python libraries to work. All of them use the python language but you don't know to know any python to make this demo work :-)\n",
      "\n",
      "- [Networkx](//networkx.github.io) (Manipulation of graphs)\n",
      "- [Jinja2](//jinja.pocoo.org) (Templating)\n",
      "- [IPython](//ipython.org) (Interactive computation)\n",
      "- [pandas](//pandas.pydata.org) (Data Analysis)\n",
      "- [scipy](//scipy.org) (Interpolation/linear regression)\n",
      "- [Fabric](//fabfile.org) (launching commands)\n",
      "- [Numpy](//numpy.org) (numeric computation)\n",
      "- [requests](//python-requests.org) (HTTP requests)\n",
      "- [matplotlib](//matplotlib.org) (Ploting library)\n",
      "\n",
      "#### APT command\n",
      "\n",
      "If you are on a debian like system you might just get all your dependencies with this simple command:\n",
      "\n",
      "    sudo apt-get -qq install python-matplotlib fabric python-pandas python-networkx python-numpy python-jinja2 python-scipy\n",
      "\n",
      "### Contiki related tools\n",
      "\n",
      "I suppose that you got some tools that are rather very classic for Contiki development:\n",
      "\n",
      "- Contiki code source (git clone https://github.com/contiki-os/contiki.git)\n",
      "- mspgcc-4.7 (I use the bleeding edge version but the stable version should work)\n",
      "- tshark (Useful for reading PCAP files, like wireshark but with the command line)\n",
      "- java 1.7 (COOJA is a java app)\n",
      "\n",
      "#### APT command\n",
      "\n",
      "    sudo apt-get install tshark openjdk-7-jre tshark gcc-msp430\n",
      "    \n",
      "### Travis-ci\n",
      "\n",
      "The code of makesense is tested to avoid bugs. We provision a test machine (Ubuntu Machine) and then run a typical simulation inside it. To make your ubuntu machine just like the provisionned one go check the [travis configuration](//github.com/sieben/makesense/blob/master/.travis.yml)"
     ]
    },
    {
     "cell_type": "markdown",
     "metadata": {},
     "source": [
      "## Settings\n",
      "\n",
      "These settings will affect all our processes. \n",
      "\n",
      "**They are capitilized and must be changed to fit your configuration**"
     ]
    },
    {
     "cell_type": "markdown",
     "metadata": {},
     "source": [
      "### Global Settings"
     ]
    },
    {
     "cell_type": "code",
     "collapsed": false,
     "input": [
      "import os\n",
      "\n",
      "from os.path import join as pj\n",
      "from jinja2 import Environment, FileSystemLoader\n",
      "\n",
      "ROOT_DIR = os.getcwd()\n",
      "CONTIKI_FOLDER = os.path.abspath(pj(ROOT_DIR, \"contiki\"))\n",
      "EXPERIMENT_FOLDER = pj(ROOT_DIR, \"experiments\")\n",
      "TEMPLATE_FOLDER = pj(ROOT_DIR, \"templates\")\n",
      "TEMPLATE_ENV = Environment(loader=FileSystemLoader(TEMPLATE_FOLDER))\n",
      "COOJA_DIR = pj(CONTIKI_FOLDER, \"tools\", \"cooja\")"
     ],
     "language": "python",
     "metadata": {},
     "outputs": [],
     "prompt_number": 2
    },
    {
     "cell_type": "markdown",
     "metadata": {},
     "source": [
      "### Simulation settings\n",
      "\n",
      "We are going to specify here all the settings that will affect our simulation on our host locally."
     ]
    },
    {
     "cell_type": "code",
     "collapsed": false,
     "input": [
      "name = \"dummy\"\n",
      "platform = \"wismote\"\n",
      "experiment_path = pj(EXPERIMENT_FOLDER, name)\n",
      "\n",
      "# We make sure that the experiment path exists\n",
      "if not os.path.exists(experiment_path):\n",
      "    os.makedirs(experiment_path)\n",
      "\n",
      "transmitting_range = 42\n",
      "interference_range = 42\n",
      "success_ratio_tx = 1.0\n",
      "success_ratio_rx = 1.0\n",
      "random_seed = 12345\n",
      "timeout = 100000"
     ],
     "language": "python",
     "metadata": {},
     "outputs": [],
     "prompt_number": 3
    },
    {
     "cell_type": "markdown",
     "metadata": {},
     "source": [
      "## Make"
     ]
    },
    {
     "cell_type": "markdown",
     "metadata": {},
     "source": [
      "### Importing firmware from Contiki Examples"
     ]
    },
    {
     "cell_type": "code",
     "collapsed": false,
     "input": [
      "from shutil import copyfile\n",
      "\n",
      "\n",
      "# We can simply copy\n",
      "file_to_copy = [\"udp-client.c\", \"udp-server.c\"]\n",
      "\n",
      "for f in file_to_copy:\n",
      "    copyfile(pj(CONTIKI_FOLDER, \"examples\", \"ipv6\", \"rpl-udp\", f),\n",
      "             pj(experiment_path, f))\n",
      "    \n",
      "# Or we can use templating even for the firmware\n",
      "makefile_template = TEMPLATE_ENV.get_template(\"dummy_makefile\")\n",
      "with open(pj(experiment_path, \"Makefile\"), \"w\") as f:\n",
      "    f.write(makefile_template.render(contiki=CONTIKI_FOLDER,\n",
      "                                     target=\"wismote\"))"
     ],
     "language": "python",
     "metadata": {},
     "outputs": [],
     "prompt_number": 4
    },
    {
     "cell_type": "markdown",
     "metadata": {},
     "source": [
      "### Compiling simulator and firmware"
     ]
    },
    {
     "cell_type": "code",
     "collapsed": false,
     "input": [
      "from fabric.api import lcd, local\n",
      "\n",
      "# Making the COOJA simulator ready\n",
      "with lcd(COOJA_DIR):\n",
      "    print(COOJA_DIR)\n",
      "    local(\"ant jar\")\n",
      "\n",
      "# Compiling the firmware\n",
      "with lcd(experiment_path):\n",
      "    local(\"make -j TARGET=%s clean\" % platform)\n",
      "    local(\"make -j TARGET=%s\" % platform)"
     ],
     "language": "python",
     "metadata": {},
     "outputs": [
      {
       "output_type": "stream",
       "stream": "stdout",
       "text": [
        "/home/sieben/Dropbox/workspace/makesense/contiki/tools/cooja\n",
        "[localhost] local: ant jar\n",
        "[localhost] local: make -j TARGET=wismote clean"
       ]
      },
      {
       "output_type": "stream",
       "stream": "stdout",
       "text": [
        "\n",
        "[localhost] local: make -j TARGET=wismote"
       ]
      },
      {
       "output_type": "stream",
       "stream": "stdout",
       "text": [
        "\n"
       ]
      }
     ],
     "prompt_number": 5
    },
    {
     "cell_type": "markdown",
     "metadata": {},
     "source": [
      "### Simulation file description\n",
      "\n",
      "It's here that we are going to define the nodes topology, radio ranges, node types...\n",
      "\n",
      "You can use both the scripting abilities of python and combine them to create simulation files\n",
      "very easily."
     ]
    },
    {
     "cell_type": "code",
     "collapsed": false,
     "input": [
      "# Template loading\n",
      "\n",
      "main_csc_template = TEMPLATE_ENV.get_template(\"dummy_main.csc\")\n",
      "script_template = TEMPLATE_ENV.get_template(\"dummy_script.js\")\n",
      "\n",
      "# Simulation script rendering\n",
      "\n",
      "script = script_template.render(\n",
      "    timeout=timeout\n",
      ")\n",
      "\n",
      "# We can define dynamically the amount of nodes we want and their location on\n",
      "# simulation. You can in a very short amount of lines test your experiment\n",
      "# with a wide amount of topologies.\n",
      "\n",
      "num_client = 7\n",
      "servers = [{\"mote_id\": 1, \"x\": 0, \"y\": 0, \"z\": 0, \"mote_type\": \"server\"}]\n",
      "clients = [{\"mote_id\": i, \"x\": i, \"y\": i, \"z\": 0, \"mote_type\": \"client\"} \n",
      "           for i in range(1, num_client - 1)]\n",
      "\n",
      "# The simulation file template can also be changed and several could be written. For more information\n",
      "# about how to create a campaign go check : http://makesense.readthedocs.org/en/latest/campaign.html\n",
      "\n",
      "with open(pj(experiment_path, \"main.csc\"), \"w\") as f:\n",
      "    f.write(main_csc_template.render(\n",
      "        title=\"Dummy Simulation\",\n",
      "        random_seed=random_seed,\n",
      "        transmitting_range=transmitting_range,\n",
      "        interference_range=interference_range,\n",
      "        success_ratio_tx=success_ratio_tx,\n",
      "        success_ratio_rx=success_ratio_rx,\n",
      "        mote_types=[\n",
      "            {\"name\": \"server\", \"description\": \"server\", \"firmware\": \"udp-server.wismote\"},\n",
      "            {\"name\": \"client\", \"description\": \"client\", \"firmware\": \"udp-client.wismote\"}\n",
      "        ],\n",
      "        motes=servers + clients,\n",
      "        script=script))"
     ],
     "language": "python",
     "metadata": {},
     "outputs": [],
     "prompt_number": 6
    },
    {
     "cell_type": "markdown",
     "metadata": {},
     "source": [
      "## Launch"
     ]
    },
    {
     "cell_type": "markdown",
     "metadata": {},
     "source": [
      "In this step, you can launch the simulation. Our make run basically does the following thing:\n",
      "\n",
      "    java -mx512m -jar $(CONTIKI)/tools/cooja/dist/cooja.jar -nogui=main.csc -contiki=$(CONTIKI)"
     ]
    },
    {
     "cell_type": "code",
     "collapsed": false,
     "input": [
      "# Running the simulation locally\n",
      "\n",
      "with lcd(experiment_path):\n",
      "    local(\"make run\")"
     ],
     "language": "python",
     "metadata": {},
     "outputs": [
      {
       "output_type": "stream",
       "stream": "stdout",
       "text": [
        "[localhost] local: make run\n"
       ]
      }
     ],
     "prompt_number": 12
    },
    {
     "cell_type": "markdown",
     "metadata": {},
     "source": [
      "## Deploy\n",
      "\n",
      "This step is the one where we will deploy to the [iotlab](//iot-lab.info) testbed. You need to have an account and be logged. If that's not the case you checkout the following tutorial: https://www.iot-lab.info/tutorials/install-cli-tools/"
     ]
    },
    {
     "cell_type": "markdown",
     "metadata": {},
     "source": [
      "### Testbed settings\n",
      "\n",
      "\n",
      "#### Little SSH tip\n",
      "\n",
      "Add the following lines to your .ssh/config while changing your\n",
      "user to your propre name of course ;-)\n",
      "\n",
      "    Host strasbourg\n",
      "    HostName strasbourg.iot-lab.info\n",
      "    User leone\n",
      "\n",
      "    Host euratech\n",
      "    HostName euratech.iot-lab.info\n",
      "    User leone\n",
      "\n",
      "    Host rennes\n",
      "    HostName rennes.iot-lab.info\n",
      "    User leone\n",
      "\n",
      "    Host grenoble\n",
      "    HostName grenoble.iot-lab.info\n",
      "    User leone\n",
      "\n",
      "    Host rocquencourt\n",
      "    HostName rocquencourt.iot-lab.info\n",
      "    User leone"
     ]
    },
    {
     "cell_type": "code",
     "collapsed": false,
     "input": [
      "from fabric.api import env\n",
      "\n",
      "deploy = False\n",
      "\n",
      "# We tell to fabric to use the .ssh/config to ease the deployment\n",
      "env.use_ssh_config = True\n",
      "\n",
      "# The testbed we want to deploy in. Because it's a simple python variable you can use loops to deploy on several testbeds.\n",
      "env.host_string = \"grenoble\"\n",
      "\n",
      "# Creation of folder just to be sure\n",
      "testbed_results_folder = pj(experiment_path, \"results\", \"iotlab\")\n",
      "if not os.path.exists(testbed_results_folder):\n",
      "    os.makedirs(testbed_results_folder)"
     ],
     "language": "python",
     "metadata": {},
     "outputs": [],
     "prompt_number": 12
    },
    {
     "cell_type": "markdown",
     "metadata": {},
     "source": [
      "### Deployment settings\n",
      "\n",
      "We are going here to choose the nodes we want to deploy on. Looking at the GANTT chart of your testbed and position might be a good idea to have quick deployment and run. We just want to show a quick run here. You could have a much longer simulation."
     ]
    },
    {
     "cell_type": "code",
     "collapsed": false,
     "input": [
      "import json\n",
      "\n",
      "if deploy:\n",
      "    from iotlabcli import experiment\n",
      "\n",
      "    testbed_results = pj(experiment_path, \"results\", \"iotlab\")\n",
      "\n",
      "    # Name to give to our run\n",
      "    testbed_name = \"ewsn2015_demo_experiment\"\n",
      "\n",
      "    # Simulation duration in minutes\n",
      "    testbed_duration = 1\n",
      "\n",
      "    # Experiment id\n",
      "    testbed_experiment_id = None\n",
      "\n",
      "    testbed_client_nodes = [141, 142]\n",
      "    testbed_server_nodes = [143]\n",
      "\n",
      "    testbed_all_nodes = testbed_client_nodes + testbed_server_nodes\n",
      "\n",
      "    # describe the resources\n",
      "    resources = [\n",
      "      {\n",
      "        \"nodes\": [\n",
      "          \"m3-%d.%s.iot-lab.info\" % (node, env.host_string) for node in testbed_client_nodes\n",
      "        ],\n",
      "        \"firmware_path\": pj(experiment_path, \"udp-client.iotlab-m3\"),\n",
      "        \"profile_name\": \"m3_energy_monitoring\"\n",
      "      },\n",
      "      {\n",
      "        \"nodes\": [\n",
      "          \"m3-%d.%s.iot-lab.info\" % (node, env.host_string) for node in testbed_server_nodes\n",
      "        ],\n",
      "        \"firmware_path\": pj(experiment_path, \"udp-server.iotlab-m3\"),\n",
      "        \"profile_name\": \"m3_energy_monitoring\"\n",
      "      }\n",
      "    ]\n",
      "\n",
      "    resources = [experiment.exp_resources(**c) for c in resources]\n",
      "\n",
      "    # Let's save all this configuration in the results folder to keep track of what we ran\n",
      "    with open(pj(testbed_results_folder, \"nodes.json\"), \"w\") as f:\n",
      "        f.write(json.dumps(resources,\n",
      "                           sort_keys=True, indent=4, separators=(',', ': ')) )"
     ],
     "language": "python",
     "metadata": {},
     "outputs": [],
     "prompt_number": 8
    },
    {
     "cell_type": "code",
     "collapsed": false,
     "input": [
      "from fabric.api import run\n",
      "\n",
      "if deploy:\n",
      "    experiment_finished = False\n",
      "    \n",
      "    import iotlabcli\n",
      "    # gets user password from credentials file None, None\n",
      "    # actually submit the experiment\n",
      "    # We move to the folder to have a portable iotlab.json\n",
      "    with lcd(experiment_path):\n",
      "        exp_res = experiment.submit_experiment(\n",
      "            api, testbed_name, testbed_duration, resources)\n",
      "        testbed_experiment_id = exp_res[\"id\"]\n",
      "        with open(pj(testbed_results_folder, \"experiment.json\"), \"w\") as f:\n",
      "            f.write(json.dumps({\"id\": testbed_experiment_id}))\n",
      "\n",
      "    # get the content\n",
      "    print \"Exp submited with id: %u\" % testbed_experiment_id\n",
      "    \n",
      "    # We wait till the experiment is completed\n",
      "    # note that this step requieres you to have experiment-cli installed on the command line.\n",
      "    # TODO: Replace with a full pythonic way\n",
      "    run(\"experiment-cli wait -i %d\" % testbed_experiment_id)\n",
      "\n",
      "    with open(pj(testbed_results_folder, \"serial.log\"), 'w') as f:\n",
      "        run(\"./iot-lab/tools_and_scripts/serial_aggregator.py -i %d\" % testbed_experiment_id,\n",
      "            stdout=f, timeout=60 * testbed_duration + 7)\n",
      "    print(\"Written serial logs to %s\" % pj(testbed_results_folder, \"serial.log\"))"
     ],
     "language": "python",
     "metadata": {},
     "outputs": [
      {
       "output_type": "stream",
       "stream": "stdout",
       "text": [
        "coucou\n",
        "Exp submited with id: 14431"
       ]
      },
      {
       "output_type": "stream",
       "stream": "stdout",
       "text": [
        "\n",
        "[grenoble] run: experiment-cli wait -i 14431\n",
        "[grenoble] out: Waiting that experiment 14431 gets in state Running\n",
        "[grenoble] out: \"Running\"\n",
        "[grenoble] out: \n"
       ]
      },
      {
       "output_type": "stream",
       "stream": "stdout",
       "text": [
        "\n",
        "[grenoble] run: ./iot-lab/tools_and_scripts/serial_aggregator.py -i 14431\n"
       ]
      },
      {
       "ename": "KeyboardInterrupt",
       "evalue": "",
       "output_type": "pyerr",
       "traceback": [
        "\u001b[1;31m---------------------------------------------------------------------------\u001b[0m\n\u001b[1;31mKeyboardInterrupt\u001b[0m                         Traceback (most recent call last)",
        "\u001b[1;32m<ipython-input-14-1f745edd8e31>\u001b[0m in \u001b[0;36m<module>\u001b[1;34m()\u001b[0m\n\u001b[0;32m     28\u001b[0m     \u001b[1;32mwith\u001b[0m \u001b[0mopen\u001b[0m\u001b[1;33m(\u001b[0m\u001b[0mpj\u001b[0m\u001b[1;33m(\u001b[0m\u001b[0mtestbed_results_folder\u001b[0m\u001b[1;33m,\u001b[0m \u001b[1;34m\"serial.log\"\u001b[0m\u001b[1;33m)\u001b[0m\u001b[1;33m,\u001b[0m \u001b[1;34m'w'\u001b[0m\u001b[1;33m)\u001b[0m \u001b[1;32mas\u001b[0m \u001b[0mf\u001b[0m\u001b[1;33m:\u001b[0m\u001b[1;33m\u001b[0m\u001b[0m\n\u001b[0;32m     29\u001b[0m         run(\"./iot-lab/tools_and_scripts/serial_aggregator.py -i %d\" % testbed_experiment_id,\n\u001b[1;32m---> 30\u001b[1;33m             stdout=f)\n\u001b[0m\u001b[0;32m     31\u001b[0m     \u001b[1;32mprint\u001b[0m\u001b[1;33m(\u001b[0m\u001b[1;34m\"Written serial logs to %s\"\u001b[0m \u001b[1;33m%\u001b[0m \u001b[0mpj\u001b[0m\u001b[1;33m(\u001b[0m\u001b[0mtestbed_results_folder\u001b[0m\u001b[1;33m,\u001b[0m \u001b[1;34m\"serial.log\"\u001b[0m\u001b[1;33m)\u001b[0m\u001b[1;33m)\u001b[0m\u001b[1;33m\u001b[0m\u001b[0m\n",
        "\u001b[1;32m/home/sieben/.local/lib/python2.7/site-packages/fabric/network.pyc\u001b[0m in \u001b[0;36mhost_prompting_wrapper\u001b[1;34m(*args, **kwargs)\u001b[0m\n\u001b[0;32m    645\u001b[0m                                     \" host string for connection: \")\n\u001b[0;32m    646\u001b[0m             \u001b[0menv\u001b[0m\u001b[1;33m.\u001b[0m\u001b[0mupdate\u001b[0m\u001b[1;33m(\u001b[0m\u001b[0mto_dict\u001b[0m\u001b[1;33m(\u001b[0m\u001b[0mhost_string\u001b[0m\u001b[1;33m)\u001b[0m\u001b[1;33m)\u001b[0m\u001b[1;33m\u001b[0m\u001b[0m\n\u001b[1;32m--> 647\u001b[1;33m         \u001b[1;32mreturn\u001b[0m \u001b[0mfunc\u001b[0m\u001b[1;33m(\u001b[0m\u001b[1;33m*\u001b[0m\u001b[0margs\u001b[0m\u001b[1;33m,\u001b[0m \u001b[1;33m**\u001b[0m\u001b[0mkwargs\u001b[0m\u001b[1;33m)\u001b[0m\u001b[1;33m\u001b[0m\u001b[0m\n\u001b[0m\u001b[0;32m    648\u001b[0m     \u001b[0mhost_prompting_wrapper\u001b[0m\u001b[1;33m.\u001b[0m\u001b[0mundecorated\u001b[0m \u001b[1;33m=\u001b[0m \u001b[0mfunc\u001b[0m\u001b[1;33m\u001b[0m\u001b[0m\n\u001b[0;32m    649\u001b[0m     \u001b[1;32mreturn\u001b[0m \u001b[0mhost_prompting_wrapper\u001b[0m\u001b[1;33m\u001b[0m\u001b[0m\n",
        "\u001b[1;32m/home/sieben/.local/lib/python2.7/site-packages/fabric/operations.pyc\u001b[0m in \u001b[0;36mrun\u001b[1;34m(command, shell, pty, combine_stderr, quiet, warn_only, stdout, stderr, timeout, shell_escape)\u001b[0m\n\u001b[0;32m   1052\u001b[0m     return _run_command(command, shell, pty, combine_stderr, quiet=quiet,\n\u001b[0;32m   1053\u001b[0m         \u001b[0mwarn_only\u001b[0m\u001b[1;33m=\u001b[0m\u001b[0mwarn_only\u001b[0m\u001b[1;33m,\u001b[0m \u001b[0mstdout\u001b[0m\u001b[1;33m=\u001b[0m\u001b[0mstdout\u001b[0m\u001b[1;33m,\u001b[0m \u001b[0mstderr\u001b[0m\u001b[1;33m=\u001b[0m\u001b[0mstderr\u001b[0m\u001b[1;33m,\u001b[0m \u001b[0mtimeout\u001b[0m\u001b[1;33m=\u001b[0m\u001b[0mtimeout\u001b[0m\u001b[1;33m,\u001b[0m\u001b[1;33m\u001b[0m\u001b[0m\n\u001b[1;32m-> 1054\u001b[1;33m         shell_escape=shell_escape)\n\u001b[0m\u001b[0;32m   1055\u001b[0m \u001b[1;33m\u001b[0m\u001b[0m\n\u001b[0;32m   1056\u001b[0m \u001b[1;33m\u001b[0m\u001b[0m\n",
        "\u001b[1;32m/home/sieben/.local/lib/python2.7/site-packages/fabric/operations.pyc\u001b[0m in \u001b[0;36m_run_command\u001b[1;34m(command, shell, pty, combine_stderr, sudo, user, quiet, warn_only, stdout, stderr, group, timeout, shell_escape)\u001b[0m\n\u001b[0;32m    921\u001b[0m             \u001b[0mchannel\u001b[0m\u001b[1;33m=\u001b[0m\u001b[0mdefault_channel\u001b[0m\u001b[1;33m(\u001b[0m\u001b[1;33m)\u001b[0m\u001b[1;33m,\u001b[0m \u001b[0mcommand\u001b[0m\u001b[1;33m=\u001b[0m\u001b[0mwrapped_command\u001b[0m\u001b[1;33m,\u001b[0m \u001b[0mpty\u001b[0m\u001b[1;33m=\u001b[0m\u001b[0mpty\u001b[0m\u001b[1;33m,\u001b[0m\u001b[1;33m\u001b[0m\u001b[0m\n\u001b[0;32m    922\u001b[0m             \u001b[0mcombine_stderr\u001b[0m\u001b[1;33m=\u001b[0m\u001b[0mcombine_stderr\u001b[0m\u001b[1;33m,\u001b[0m \u001b[0minvoke_shell\u001b[0m\u001b[1;33m=\u001b[0m\u001b[0mFalse\u001b[0m\u001b[1;33m,\u001b[0m \u001b[0mstdout\u001b[0m\u001b[1;33m=\u001b[0m\u001b[0mstdout\u001b[0m\u001b[1;33m,\u001b[0m\u001b[1;33m\u001b[0m\u001b[0m\n\u001b[1;32m--> 923\u001b[1;33m             stderr=stderr, timeout=timeout)\n\u001b[0m\u001b[0;32m    924\u001b[0m \u001b[1;33m\u001b[0m\u001b[0m\n\u001b[0;32m    925\u001b[0m         \u001b[1;31m# Assemble output string\u001b[0m\u001b[1;33m\u001b[0m\u001b[1;33m\u001b[0m\u001b[0m\n",
        "\u001b[1;32m/home/sieben/.local/lib/python2.7/site-packages/fabric/operations.pyc\u001b[0m in \u001b[0;36m_execute\u001b[1;34m(channel, command, pty, combine_stderr, invoke_shell, stdout, stderr, timeout)\u001b[0m\n\u001b[0;32m    807\u001b[0m                     \u001b[0mworker\u001b[0m\u001b[1;33m.\u001b[0m\u001b[0mraise_if_needed\u001b[0m\u001b[1;33m(\u001b[0m\u001b[1;33m)\u001b[0m\u001b[1;33m\u001b[0m\u001b[0m\n\u001b[0;32m    808\u001b[0m             \u001b[1;32mtry\u001b[0m\u001b[1;33m:\u001b[0m\u001b[1;33m\u001b[0m\u001b[0m\n\u001b[1;32m--> 809\u001b[1;33m                 \u001b[0mtime\u001b[0m\u001b[1;33m.\u001b[0m\u001b[0msleep\u001b[0m\u001b[1;33m(\u001b[0m\u001b[0mssh\u001b[0m\u001b[1;33m.\u001b[0m\u001b[0mio_sleep\u001b[0m\u001b[1;33m)\u001b[0m\u001b[1;33m\u001b[0m\u001b[0m\n\u001b[0m\u001b[0;32m    810\u001b[0m             \u001b[1;32mexcept\u001b[0m \u001b[0mKeyboardInterrupt\u001b[0m\u001b[1;33m:\u001b[0m\u001b[1;33m\u001b[0m\u001b[0m\n\u001b[0;32m    811\u001b[0m                 \u001b[1;32mif\u001b[0m \u001b[1;32mnot\u001b[0m \u001b[0mremote_interrupt\u001b[0m\u001b[1;33m:\u001b[0m\u001b[1;33m\u001b[0m\u001b[0m\n",
        "\u001b[1;31mKeyboardInterrupt\u001b[0m: "
       ]
      }
     ],
     "prompt_number": 14
    },
    {
     "cell_type": "markdown",
     "metadata": {},
     "source": [
      "## Fetch\n",
      "\n",
      "Getting all the results located on the testbed."
     ]
    },
    {
     "cell_type": "code",
     "collapsed": false,
     "input": [
      "if deploy:\n",
      "\n",
      "    get(\".iot-lab/%d\" % testbed_experiment_id, local_path=testbed_results)"
     ],
     "language": "python",
     "metadata": {},
     "outputs": [
      {
       "ename": "SSHException",
       "evalue": "SSH session not active",
       "output_type": "pyerr",
       "traceback": [
        "\u001b[1;31m---------------------------------------------------------------------------\u001b[0m\n\u001b[1;31mSSHException\u001b[0m                              Traceback (most recent call last)",
        "\u001b[1;32m<ipython-input-189-d9699bdd5fe1>\u001b[0m in \u001b[0;36m<module>\u001b[1;34m()\u001b[0m\n\u001b[0;32m      4\u001b[0m \u001b[0mtestbed_experiment_id\u001b[0m \u001b[1;33m=\u001b[0m \u001b[1;36m14224\u001b[0m\u001b[1;33m\u001b[0m\u001b[0m\n\u001b[0;32m      5\u001b[0m \u001b[1;33m\u001b[0m\u001b[0m\n\u001b[1;32m----> 6\u001b[1;33m \u001b[0mget\u001b[0m\u001b[1;33m(\u001b[0m\u001b[1;34m\".iot-lab/%d\"\u001b[0m \u001b[1;33m%\u001b[0m \u001b[0mtestbed_experiment_id\u001b[0m\u001b[1;33m,\u001b[0m \u001b[0mlocal_path\u001b[0m\u001b[1;33m=\u001b[0m\u001b[0mtestbed_results\u001b[0m\u001b[1;33m)\u001b[0m\u001b[1;33m\u001b[0m\u001b[0m\n\u001b[0m",
        "\u001b[1;32m/home/sieben/.local/lib/python2.7/site-packages/fabric/network.pyc\u001b[0m in \u001b[0;36mhost_prompting_wrapper\u001b[1;34m(*args, **kwargs)\u001b[0m\n\u001b[0;32m    645\u001b[0m                                     \" host string for connection: \")\n\u001b[0;32m    646\u001b[0m             \u001b[0menv\u001b[0m\u001b[1;33m.\u001b[0m\u001b[0mupdate\u001b[0m\u001b[1;33m(\u001b[0m\u001b[0mto_dict\u001b[0m\u001b[1;33m(\u001b[0m\u001b[0mhost_string\u001b[0m\u001b[1;33m)\u001b[0m\u001b[1;33m)\u001b[0m\u001b[1;33m\u001b[0m\u001b[0m\n\u001b[1;32m--> 647\u001b[1;33m         \u001b[1;32mreturn\u001b[0m \u001b[0mfunc\u001b[0m\u001b[1;33m(\u001b[0m\u001b[1;33m*\u001b[0m\u001b[0margs\u001b[0m\u001b[1;33m,\u001b[0m \u001b[1;33m**\u001b[0m\u001b[0mkwargs\u001b[0m\u001b[1;33m)\u001b[0m\u001b[1;33m\u001b[0m\u001b[0m\n\u001b[0m\u001b[0;32m    648\u001b[0m     \u001b[0mhost_prompting_wrapper\u001b[0m\u001b[1;33m.\u001b[0m\u001b[0mundecorated\u001b[0m \u001b[1;33m=\u001b[0m \u001b[0mfunc\u001b[0m\u001b[1;33m\u001b[0m\u001b[0m\n\u001b[0;32m    649\u001b[0m     \u001b[1;32mreturn\u001b[0m \u001b[0mhost_prompting_wrapper\u001b[0m\u001b[1;33m\u001b[0m\u001b[0m\n",
        "\u001b[1;32m/home/sieben/.local/lib/python2.7/site-packages/fabric/operations.pyc\u001b[0m in \u001b[0;36mget\u001b[1;34m(remote_path, local_path, use_sudo, temp_dir)\u001b[0m\n\u001b[0;32m    533\u001b[0m         \u001b[0mlocal_path\u001b[0m \u001b[1;33m=\u001b[0m \u001b[0mapply_lcwd\u001b[0m\u001b[1;33m(\u001b[0m\u001b[0mlocal_path\u001b[0m\u001b[1;33m,\u001b[0m \u001b[0menv\u001b[0m\u001b[1;33m)\u001b[0m\u001b[1;33m\u001b[0m\u001b[0m\n\u001b[0;32m    534\u001b[0m \u001b[1;33m\u001b[0m\u001b[0m\n\u001b[1;32m--> 535\u001b[1;33m     \u001b[0mftp\u001b[0m \u001b[1;33m=\u001b[0m \u001b[0mSFTP\u001b[0m\u001b[1;33m(\u001b[0m\u001b[0menv\u001b[0m\u001b[1;33m.\u001b[0m\u001b[0mhost_string\u001b[0m\u001b[1;33m)\u001b[0m\u001b[1;33m\u001b[0m\u001b[0m\n\u001b[0m\u001b[0;32m    536\u001b[0m \u001b[1;33m\u001b[0m\u001b[0m\n\u001b[0;32m    537\u001b[0m     \u001b[1;32mwith\u001b[0m \u001b[0mclosing\u001b[0m\u001b[1;33m(\u001b[0m\u001b[0mftp\u001b[0m\u001b[1;33m)\u001b[0m \u001b[1;32mas\u001b[0m \u001b[0mftp\u001b[0m\u001b[1;33m:\u001b[0m\u001b[1;33m\u001b[0m\u001b[0m\n",
        "\u001b[1;32m/home/sieben/.local/lib/python2.7/site-packages/fabric/sftp.pyc\u001b[0m in \u001b[0;36m__init__\u001b[1;34m(self, host_string)\u001b[0m\n\u001b[0;32m     28\u001b[0m     \"\"\"\n\u001b[0;32m     29\u001b[0m     \u001b[1;32mdef\u001b[0m \u001b[0m__init__\u001b[0m\u001b[1;33m(\u001b[0m\u001b[0mself\u001b[0m\u001b[1;33m,\u001b[0m \u001b[0mhost_string\u001b[0m\u001b[1;33m)\u001b[0m\u001b[1;33m:\u001b[0m\u001b[1;33m\u001b[0m\u001b[0m\n\u001b[1;32m---> 30\u001b[1;33m         \u001b[0mself\u001b[0m\u001b[1;33m.\u001b[0m\u001b[0mftp\u001b[0m \u001b[1;33m=\u001b[0m \u001b[0mconnections\u001b[0m\u001b[1;33m[\u001b[0m\u001b[0mhost_string\u001b[0m\u001b[1;33m]\u001b[0m\u001b[1;33m.\u001b[0m\u001b[0mopen_sftp\u001b[0m\u001b[1;33m(\u001b[0m\u001b[1;33m)\u001b[0m\u001b[1;33m\u001b[0m\u001b[0m\n\u001b[0m\u001b[0;32m     31\u001b[0m \u001b[1;33m\u001b[0m\u001b[0m\n\u001b[0;32m     32\u001b[0m     \u001b[1;31m# Recall that __getattr__ is the \"fallback\" attribute getter, and is thus\u001b[0m\u001b[1;33m\u001b[0m\u001b[1;33m\u001b[0m\u001b[0m\n",
        "\u001b[1;32m/home/sieben/.local/lib/python2.7/site-packages/paramiko/client.pyc\u001b[0m in \u001b[0;36mopen_sftp\u001b[1;34m(self)\u001b[0m\n\u001b[0;32m    377\u001b[0m         \u001b[1;33m:\u001b[0m\u001b[1;32mreturn\u001b[0m\u001b[1;33m:\u001b[0m \u001b[0ma\u001b[0m \u001b[0mnew\u001b[0m \u001b[1;33m`\u001b[0m\u001b[1;33m.\u001b[0m\u001b[0mSFTPClient\u001b[0m\u001b[1;33m`\u001b[0m \u001b[0msession\u001b[0m \u001b[0mobject\u001b[0m\u001b[1;33m\u001b[0m\u001b[0m\n\u001b[0;32m    378\u001b[0m         \"\"\"\n\u001b[1;32m--> 379\u001b[1;33m         \u001b[1;32mreturn\u001b[0m \u001b[0mself\u001b[0m\u001b[1;33m.\u001b[0m\u001b[0m_transport\u001b[0m\u001b[1;33m.\u001b[0m\u001b[0mopen_sftp_client\u001b[0m\u001b[1;33m(\u001b[0m\u001b[1;33m)\u001b[0m\u001b[1;33m\u001b[0m\u001b[0m\n\u001b[0m\u001b[0;32m    380\u001b[0m \u001b[1;33m\u001b[0m\u001b[0m\n\u001b[0;32m    381\u001b[0m     \u001b[1;32mdef\u001b[0m \u001b[0mget_transport\u001b[0m\u001b[1;33m(\u001b[0m\u001b[0mself\u001b[0m\u001b[1;33m)\u001b[0m\u001b[1;33m:\u001b[0m\u001b[1;33m\u001b[0m\u001b[0m\n",
        "\u001b[1;32m/home/sieben/.local/lib/python2.7/site-packages/paramiko/transport.pyc\u001b[0m in \u001b[0;36mopen_sftp_client\u001b[1;34m(self)\u001b[0m\n\u001b[0;32m    809\u001b[0m             \u001b[0mthis\u001b[0m \u001b[0mtransport\u001b[0m\u001b[1;33m\u001b[0m\u001b[0m\n\u001b[0;32m    810\u001b[0m         \"\"\"\n\u001b[1;32m--> 811\u001b[1;33m         \u001b[1;32mreturn\u001b[0m \u001b[0mSFTPClient\u001b[0m\u001b[1;33m.\u001b[0m\u001b[0mfrom_transport\u001b[0m\u001b[1;33m(\u001b[0m\u001b[0mself\u001b[0m\u001b[1;33m)\u001b[0m\u001b[1;33m\u001b[0m\u001b[0m\n\u001b[0m\u001b[0;32m    812\u001b[0m \u001b[1;33m\u001b[0m\u001b[0m\n\u001b[0;32m    813\u001b[0m     \u001b[1;32mdef\u001b[0m \u001b[0msend_ignore\u001b[0m\u001b[1;33m(\u001b[0m\u001b[0mself\u001b[0m\u001b[1;33m,\u001b[0m \u001b[0mbyte_count\u001b[0m\u001b[1;33m=\u001b[0m\u001b[0mNone\u001b[0m\u001b[1;33m)\u001b[0m\u001b[1;33m:\u001b[0m\u001b[1;33m\u001b[0m\u001b[0m\n",
        "\u001b[1;32m/home/sieben/.local/lib/python2.7/site-packages/paramiko/sftp_client.pyc\u001b[0m in \u001b[0;36mfrom_transport\u001b[1;34m(cls, t, window_size, max_packet_size)\u001b[0m\n\u001b[0;32m    126\u001b[0m         \"\"\"\n\u001b[0;32m    127\u001b[0m         chan = t.open_session(window_size=window_size,\n\u001b[1;32m--> 128\u001b[1;33m                               max_packet_size=max_packet_size)\n\u001b[0m\u001b[0;32m    129\u001b[0m         \u001b[1;32mif\u001b[0m \u001b[0mchan\u001b[0m \u001b[1;32mis\u001b[0m \u001b[0mNone\u001b[0m\u001b[1;33m:\u001b[0m\u001b[1;33m\u001b[0m\u001b[0m\n\u001b[0;32m    130\u001b[0m             \u001b[1;32mreturn\u001b[0m \u001b[0mNone\u001b[0m\u001b[1;33m\u001b[0m\u001b[0m\n",
        "\u001b[1;32m/home/sieben/.local/lib/python2.7/site-packages/paramiko/transport.pyc\u001b[0m in \u001b[0;36mopen_session\u001b[1;34m(self, window_size, max_packet_size)\u001b[0m\n\u001b[0;32m    613\u001b[0m         return self.open_channel('session',\n\u001b[0;32m    614\u001b[0m                                  \u001b[0mwindow_size\u001b[0m\u001b[1;33m=\u001b[0m\u001b[0mwindow_size\u001b[0m\u001b[1;33m,\u001b[0m\u001b[1;33m\u001b[0m\u001b[0m\n\u001b[1;32m--> 615\u001b[1;33m                                  max_packet_size=max_packet_size)\n\u001b[0m\u001b[0;32m    616\u001b[0m \u001b[1;33m\u001b[0m\u001b[0m\n\u001b[0;32m    617\u001b[0m     \u001b[1;32mdef\u001b[0m \u001b[0mopen_x11_channel\u001b[0m\u001b[1;33m(\u001b[0m\u001b[0mself\u001b[0m\u001b[1;33m,\u001b[0m \u001b[0msrc_addr\u001b[0m\u001b[1;33m=\u001b[0m\u001b[0mNone\u001b[0m\u001b[1;33m)\u001b[0m\u001b[1;33m:\u001b[0m\u001b[1;33m\u001b[0m\u001b[0m\n",
        "\u001b[1;32m/home/sieben/.local/lib/python2.7/site-packages/paramiko/transport.pyc\u001b[0m in \u001b[0;36mopen_channel\u001b[1;34m(self, kind, dest_addr, src_addr, window_size, max_packet_size)\u001b[0m\n\u001b[0;32m    694\u001b[0m         \"\"\"\n\u001b[0;32m    695\u001b[0m         \u001b[1;32mif\u001b[0m \u001b[1;32mnot\u001b[0m \u001b[0mself\u001b[0m\u001b[1;33m.\u001b[0m\u001b[0mactive\u001b[0m\u001b[1;33m:\u001b[0m\u001b[1;33m\u001b[0m\u001b[0m\n\u001b[1;32m--> 696\u001b[1;33m             \u001b[1;32mraise\u001b[0m \u001b[0mSSHException\u001b[0m\u001b[1;33m(\u001b[0m\u001b[1;34m'SSH session not active'\u001b[0m\u001b[1;33m)\u001b[0m\u001b[1;33m\u001b[0m\u001b[0m\n\u001b[0m\u001b[0;32m    697\u001b[0m         \u001b[0mself\u001b[0m\u001b[1;33m.\u001b[0m\u001b[0mlock\u001b[0m\u001b[1;33m.\u001b[0m\u001b[0macquire\u001b[0m\u001b[1;33m(\u001b[0m\u001b[1;33m)\u001b[0m\u001b[1;33m\u001b[0m\u001b[0m\n\u001b[0;32m    698\u001b[0m         \u001b[1;32mtry\u001b[0m\u001b[1;33m:\u001b[0m\u001b[1;33m\u001b[0m\u001b[0m\n",
        "\u001b[1;31mSSHException\u001b[0m: SSH session not active"
       ]
      }
     ],
     "prompt_number": 189
    },
    {
     "cell_type": "markdown",
     "metadata": {},
     "source": [
      "### Parse"
     ]
    },
    {
     "cell_type": "markdown",
     "metadata": {},
     "source": [
      "Results and logs rarely come ready to be exploited. Python is featured with regexp module and can help you create\n",
      "objects representing the data you want and put them in CSV to have easier exploitation.\n",
      "\n",
      "Simulation in Cooja can have several output.\n",
      "\n",
      "- Serial log output\n",
      "- PCAP output\n",
      "- Powertracker output\n",
      "\n",
      "All of them can be analyzed by makesense to produce messages"
     ]
    },
    {
     "cell_type": "code",
     "collapsed": false,
     "input": [
      "from makesense import parser"
     ],
     "language": "python",
     "metadata": {},
     "outputs": [],
     "prompt_number": 44
    },
    {
     "cell_type": "markdown",
     "metadata": {},
     "source": [
      "#### Parse simulation results"
     ]
    },
    {
     "cell_type": "code",
     "collapsed": false,
     "input": [
      "# Transform all logs to a messages object\n",
      "\n",
      "import pandas as pd\n",
      "import networkx as nx\n",
      "import xml.etree.ElementTree as ET\n",
      "from scipy.spatial import distance\n",
      "import itertools\n",
      "\n",
      "def csc_to_graph(name):\n",
      "    tree = ET.parse(name)\n",
      "    l_mote_id = [int(t.text) for t in tree.findall(\".//mote/interface_config/id\")]\n",
      "    l_mote_type = [t.text for t in tree.findall(\".//mote/motetype_identifier\")]\n",
      "    l_x = [float(t.text) for t in tree.findall(\".//mote/interface_config/x\")]\n",
      "    l_y = [float(t.text) for t in tree.findall(\".//mote/interface_config/y\")]\n",
      "    l_z = [float(t.text) for t in tree.findall(\".//mote/interface_config/z\")]\n",
      "\n",
      "    g = nx.Graph()\n",
      "    \n",
      "    # We first add all nodes with their attributes\n",
      "    for (mote_id, mote_type, x, y, z) in zip(l_mote_id, l_mote_type, l_x, l_y, l_z):\n",
      "        g.add_node(mote_id, mote_type=mote_type, x=x, y=y, z=z)\n",
      "\n",
      "    # We then draw a line between all those nodes if they are within a certain range from\n",
      "    # each others.\n",
      "    for (a, b) in itertools.product(g.nodes(data=True), g.nodes(data=True)):\n",
      "        d_a, d_b = a[1], b[1]\n",
      "        if 0 < distance.euclidean((d_a[\"x\"], d_a[\"y\"], d_a[\"z\"]),\n",
      "                                  (d_b[\"x\"], d_b[\"y\"], d_b[\"z\"])) <= transmitting_range:\n",
      "            g.add_edge(a[0], b[0])\n",
      "\n",
      "    return g\n",
      "    #for mote_type in mote_types:\n",
      "    #    color = mote_types[mote_type][\"color\"]\n",
      "    #    nodelist = mote_types[mote_type][\"nodes\"]\n",
      "    #    nx.draw_networkx_nodes(net, position,\n",
      "    #                           nodelist=nodelist,\n",
      "    #                           node_color=color,\n",
      "    #                           ax=ax_transmission_graph)\n",
      "    #nx.draw_networkx_edges(net, pos=position, ax=ax_transmission_graph)\n",
      "\n",
      "    # labels\n",
      "    #nx.draw_networkx_labels(net, position, ax=ax_transmission_graph)\n",
      "\n",
      "\n",
      "messages = parser.message(experiment_path)\n",
      "g = csc_to_graph(pj(experiment_path, \"main.csc\"))\n",
      "import matplotlib\n",
      "# Force matplotlib to not use any Xwindows backend.\n",
      "matplotlib.use('Agg')\n",
      "nx.draw(g, pos={node: [data[\"x\"], data[\"y\"]] for node, data in g.nodes(data=True)})"
     ],
     "language": "python",
     "metadata": {},
     "outputs": [
      {
       "ename": "NameError",
       "evalue": "name 'parser' is not defined",
       "output_type": "pyerr",
       "traceback": [
        "\u001b[1;31m---------------------------------------------------------------------------\u001b[0m\n\u001b[1;31mNameError\u001b[0m                                 Traceback (most recent call last)",
        "\u001b[1;32m<ipython-input-1-13e21239ef74>\u001b[0m in \u001b[0;36m<module>\u001b[1;34m()\u001b[0m\n\u001b[0;32m     43\u001b[0m \u001b[1;33m\u001b[0m\u001b[0m\n\u001b[0;32m     44\u001b[0m \u001b[1;33m\u001b[0m\u001b[0m\n\u001b[1;32m---> 45\u001b[1;33m \u001b[0mmessages\u001b[0m \u001b[1;33m=\u001b[0m \u001b[0mparser\u001b[0m\u001b[1;33m.\u001b[0m\u001b[0mmessage\u001b[0m\u001b[1;33m(\u001b[0m\u001b[0mexperiment_path\u001b[0m\u001b[1;33m)\u001b[0m\u001b[1;33m\u001b[0m\u001b[0m\n\u001b[0m\u001b[0;32m     46\u001b[0m \u001b[0mg\u001b[0m \u001b[1;33m=\u001b[0m \u001b[0mcsc_to_graph\u001b[0m\u001b[1;33m(\u001b[0m\u001b[0mpj\u001b[0m\u001b[1;33m(\u001b[0m\u001b[0mexperiment_path\u001b[0m\u001b[1;33m,\u001b[0m \u001b[1;34m\"main.csc\"\u001b[0m\u001b[1;33m)\u001b[0m\u001b[1;33m)\u001b[0m\u001b[1;33m\u001b[0m\u001b[0m\n\u001b[0;32m     47\u001b[0m \u001b[0mnx\u001b[0m\u001b[1;33m.\u001b[0m\u001b[0mdraw\u001b[0m\u001b[1;33m(\u001b[0m\u001b[0mg\u001b[0m\u001b[1;33m,\u001b[0m \u001b[0mpos\u001b[0m\u001b[1;33m=\u001b[0m\u001b[1;33m{\u001b[0m\u001b[0mnode\u001b[0m\u001b[1;33m:\u001b[0m \u001b[1;33m[\u001b[0m\u001b[0mdata\u001b[0m\u001b[1;33m[\u001b[0m\u001b[1;34m\"x\"\u001b[0m\u001b[1;33m]\u001b[0m\u001b[1;33m,\u001b[0m \u001b[0mdata\u001b[0m\u001b[1;33m[\u001b[0m\u001b[1;34m\"y\"\u001b[0m\u001b[1;33m]\u001b[0m\u001b[1;33m]\u001b[0m \u001b[1;32mfor\u001b[0m \u001b[0mnode\u001b[0m\u001b[1;33m,\u001b[0m \u001b[0mdata\u001b[0m \u001b[1;32min\u001b[0m \u001b[0mg\u001b[0m\u001b[1;33m.\u001b[0m\u001b[0mnodes\u001b[0m\u001b[1;33m(\u001b[0m\u001b[0mdata\u001b[0m\u001b[1;33m=\u001b[0m\u001b[0mTrue\u001b[0m\u001b[1;33m)\u001b[0m\u001b[1;33m}\u001b[0m\u001b[1;33m)\u001b[0m\u001b[1;33m\u001b[0m\u001b[0m\n",
        "\u001b[1;31mNameError\u001b[0m: name 'parser' is not defined"
       ]
      }
     ],
     "prompt_number": 1
    },
    {
     "cell_type": "markdown",
     "metadata": {},
     "source": [
      "#### Parse testbed results"
     ]
    },
    {
     "cell_type": "code",
     "collapsed": false,
     "input": [
      "# We were interested in the energy consumption\n",
      "\n",
      "import csv\n",
      "import numpy as np\n",
      "import pandas as pd\n",
      "\n",
      "if deploy:\n",
      "    testbed_df = {}\n",
      "\n",
      "    consumption_fields = ['junk', 'junk', 'index', 'timestamp_s', 'timestamp_us', 'power', 'voltage', 'current']\n",
      "\n",
      "    for node in testbed_all_nodes:\n",
      "        oml_name = pj(testbed_results_folder, str(testbed_experiment_id), \"consumption\", \"m3-%d.oml\" % node)\n",
      "        csv_name = pj(testbed_results_folder, str(testbed_experiment_id), \"consumption\", \"m3-%d.csv\" % node)\n",
      "\n",
      "        df = pd.read_csv(oml_name, skip_blank_lines=True, skiprows=8, names=consumption_fields, delimiter=\"\\t\")\n",
      "        df.drop(\"junk\", axis=1, inplace=True)\n",
      "        df[\"timestamp\"] = df.timestamp_s + (10 ** -6) * df.timestamp_us\n",
      "        df[\"timestamp_diff\"] = df.timestamp - df.timestamp[0]\n",
      "        df.set_index(\"index\", inplace=True)    \n",
      "\n",
      "        # Saving to a dictionnary\n",
      "        testbed_df[node] = df\n",
      "        # Save the dict to a CSV for easier manipulation\n",
      "        df.to_csv(csv_name)"
     ],
     "language": "python",
     "metadata": {},
     "outputs": [],
     "prompt_number": 164
    },
    {
     "cell_type": "markdown",
     "metadata": {},
     "source": [
      "## Analyze"
     ]
    },
    {
     "cell_type": "markdown",
     "metadata": {},
     "source": [
      "### Simulation results"
     ]
    },
    {
     "cell_type": "code",
     "collapsed": false,
     "input": [
      "df_msg = pd.DataFrame([dict(msg._asdict()) for msg in messages])\n",
      "\n",
      "# Dropna is there to clean up the columns having only None data\n",
      "df_msg[df_msg.message_type == \"dis\"].dropna(axis=1)"
     ],
     "language": "python",
     "metadata": {},
     "outputs": [
      {
       "html": [
        "<div style=\"max-height:1000px;max-width:1500px;overflow:auto;\">\n",
        "<table border=\"1\" class=\"dataframe\">\n",
        "  <thead>\n",
        "    <tr style=\"text-align: right;\">\n",
        "      <th></th>\n",
        "      <th>message_type</th>\n",
        "      <th>mote_id</th>\n",
        "      <th>node</th>\n",
        "      <th>time</th>\n",
        "    </tr>\n",
        "  </thead>\n",
        "  <tbody>\n",
        "    <tr>\n",
        "      <th>0</th>\n",
        "      <td> dis</td>\n",
        "      <td> 5</td>\n",
        "      <td> 5</td>\n",
        "      <td> 1.192619</td>\n",
        "    </tr>\n",
        "    <tr>\n",
        "      <th>1</th>\n",
        "      <td> dis</td>\n",
        "      <td> 2</td>\n",
        "      <td> 2</td>\n",
        "      <td> 1.251644</td>\n",
        "    </tr>\n",
        "    <tr>\n",
        "      <th>2</th>\n",
        "      <td> dis</td>\n",
        "      <td> 4</td>\n",
        "      <td> 4</td>\n",
        "      <td> 1.631392</td>\n",
        "    </tr>\n",
        "    <tr>\n",
        "      <th>3</th>\n",
        "      <td> dis</td>\n",
        "      <td> 3</td>\n",
        "      <td> 3</td>\n",
        "      <td> 1.730805</td>\n",
        "    </tr>\n",
        "  </tbody>\n",
        "</table>\n",
        "</div>"
       ],
       "metadata": {},
       "output_type": "pyout",
       "prompt_number": 183,
       "text": [
        "  message_type  mote_id  node      time\n",
        "0          dis        5     5  1.192619\n",
        "1          dis        2     2  1.251644\n",
        "2          dis        4     4  1.631392\n",
        "3          dis        3     3  1.730805"
       ]
      }
     ],
     "prompt_number": 183
    },
    {
     "cell_type": "markdown",
     "metadata": {},
     "source": [
      "### IoTlab results"
     ]
    },
    {
     "cell_type": "markdown",
     "metadata": {},
     "source": [
      "#### Consumption measurement\n",
      "\n",
      "IoTlab offers access to the consumption of nodes during the experiment. Because we putted all our results inside a pandas Dataframe, and indexed it by time, we can access to all the measurement very easily."
     ]
    },
    {
     "cell_type": "markdown",
     "metadata": {},
     "source": [
      "##### Voltage"
     ]
    },
    {
     "cell_type": "code",
     "collapsed": false,
     "input": [
      "if deploy:\n",
      "    \n",
      "    %matplotlib inline\n",
      "    \n",
      "    import matplotlib.pyplot as plt\n",
      "    \n",
      "    for host in testbed_all_nodes:\n",
      "        testbed_df[host].voltage.plot()"
     ],
     "language": "python",
     "metadata": {},
     "outputs": [
      {
       "metadata": {},
       "output_type": "display_data",
       "png": "[encoded data removed]",
       "text": [
        "<matplotlib.figure.Figure at 0x7fd944754190>"
       ]
      }
     ],
     "prompt_number": 170
    },
    {
     "cell_type": "markdown",
     "metadata": {},
     "source": [
      "##### Power"
     ]
    },
    {
     "cell_type": "code",
     "collapsed": false,
     "input": [
      "if deploy:\n",
      "    \n",
      "    %matplotlib inline\n",
      "    \n",
      "    for host in testbed_all_nodes:\n",
      "        print testbed_df[host].power.plot()"
     ],
     "language": "python",
     "metadata": {},
     "outputs": [
      {
       "output_type": "stream",
       "stream": "stdout",
       "text": [
        "Axes(0.125,0.125;0.775x0.775)\n",
        "Axes(0.125,0.125;0.775x0.775)\n",
        "Axes(0.125,0.125;0.775x0.775)\n"
       ]
      },
      {
       "metadata": {},
       "output_type": "display_data",
       "png": "[encoded data removed]",
       "text": [
        "<matplotlib.figure.Figure at 0x7fd9448c3050>"
       ]
      }
     ],
     "prompt_number": 166
    },
    {
     "cell_type": "markdown",
     "metadata": {},
     "source": [
      "##### Current"
     ]
    },
    {
     "cell_type": "code",
     "collapsed": false,
     "input": [
      "if deploy:\n",
      "    %matplotlib inline\n",
      "    for host in testbed_all_nodes:\n",
      "        testbed_df[host].current.plot()"
     ],
     "language": "python",
     "metadata": {},
     "outputs": [
      {
       "metadata": {},
       "output_type": "display_data",
       "png": "[encoded data removed]",
       "text": [
        "<matplotlib.figure.Figure at 0x7fd944858c10>"
       ]
      }
     ],
     "prompt_number": 167
    }
   ],
   "metadata": {}
  }
 ]
}