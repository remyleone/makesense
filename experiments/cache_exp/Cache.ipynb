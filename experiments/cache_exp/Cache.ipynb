{
 "cells": [
  {
   "cell_type": "markdown",
   "metadata": {},
   "source": [
    "# Default Jupyter Notebook\n",
    "\n",
    "This notebook will present a basic setup of makesense."
   ]
  },
  {
   "cell_type": "code",
   "execution_count": null,
   "metadata": {
    "collapsed": true
   },
   "outputs": [],
   "source": [
    "def make():\n",
    "    pass\n",
    "\n",
    "# This line will be launched when running the cell and when the CI script is generated\n",
    "# When we only want to import functions, the function won't be runned.\n",
    "if __name__ == \"__main__\":\n",
    "    make()"
   ]
  },
  {
   "cell_type": "code",
   "execution_count": null,
   "metadata": {
    "collapsed": true
   },
   "outputs": [],
   "source": [
    "def launch_exp():\n",
    "    pass\n",
    "\n",
    "# This line will be launched when running the cell and when the CI script is generated\n",
    "# When we only want to import functions, the function won't be runned.\n",
    "if __name__ == \"__main__\":\n",
    "    launch_exp()"
   ]
  },
  {
   "cell_type": "code",
   "execution_count": null,
   "metadata": {
    "collapsed": true
   },
   "outputs": [],
   "source": [
    "def analyze():\n",
    "    pass\n",
    "\n",
    "# This line will be launched when running the cell and when the CI script is generated\n",
    "# When we only want to import functions, the function won't be runned.\n",
    "if __name__ == \"__main__\":\n",
    "    analyze()"
   ]
  },
  {
   "cell_type": "code",
   "execution_count": null,
   "metadata": {
    "collapsed": true
   },
   "outputs": [],
   "source": [
    "def plot():\n",
    "    pass\n",
    "\n",
    "# This line will be launched when running the cell and when the CI script is generated\n",
    "# When we only want to import functions, the function won't be runned.\n",
    "if __name__ == \"__main__\":\n",
    "    plot()"
   ]
  }
 ],
 "metadata": {
  "kernelspec": {
   "display_name": "IPython (Python 3)",
   "language": "python",
   "name": "python3"
  },
  "language_info": {
   "codemirror_mode": {
    "name": "ipython",
    "version": 3
   },
   "file_extension": ".py",
   "mimetype": "text/x-python",
   "name": "python",
   "nbconvert_exporter": "python",
   "pygments_lexer": "ipython3",
   "version": "3.4.3"
  }
 },
 "nbformat": 4,
 "nbformat_minor": 0
}
